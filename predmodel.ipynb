{
 "cells": [
  {
   "cell_type": "markdown",
   "id": "d37c483e-8378-4478-b0ad-649203bd0dd1",
   "metadata": {},
   "source": [
    "# Predictor Model"
   ]
  },
  {
   "cell_type": "code",
   "execution_count": 5,
   "id": "c3098417-ce47-449d-b68d-ed1443ce33e2",
   "metadata": {},
   "outputs": [
    {
     "name": "stdin",
     "output_type": "stream",
     "text": [
      "Enter possession, as a decimal percentage (from 0 to 1):  .4\n",
      "Enter passing accuracy, as a decimal percentage (from 0 to 1):  .81\n",
      "Enter shots on target, as an integer:  2\n",
      "Enter saves, as an integer:  1\n",
      "Enter tackles, as an integer:  22\n",
      "Enter fouls, as an integer:  16\n",
      "Enter interceptions, as an integer:  16\n",
      "Enter goal kicks, as an integer:  7\n",
      "Enter corners, as an integer:  1\n",
      "Enter crosses, as an integer:  8\n"
     ]
    },
    {
     "name": "stdout",
     "output_type": "stream",
     "text": [
      "Goals predicted is  0.6836319\n"
     ]
    }
   ],
   "source": [
    "import tensorflow as tf\n",
    "import numpy as np\n",
    "import pandas as pd\n",
    "\n",
    "goalspred = tf.keras.models.load_model('goalspred.h5')\n",
    "goalspredstats = pd.read_csv(\"goalspredstats.csv\")\n",
    "\n",
    "meanarray = np.array(goalspredstats.iloc[0,:])\n",
    "stdarray = np.array(goalspredstats.iloc[1,:])\n",
    "\n",
    "posn = float(input(\"Enter possession, as a decimal percentage (from 0 to 1): \"))\n",
    "pasy = float(input(\"Enter passing accuracy, as a decimal percentage (from 0 to 1): \"))\n",
    "shot = int(input(\"Enter shots on target, as an integer: \"))\n",
    "savs = int(input(\"Enter saves, as an integer: \"))\n",
    "tacs = int(input(\"Enter tackles, as an integer: \"))\n",
    "fous = int(input(\"Enter fouls, as an integer: \"))\n",
    "ints = int(input(\"Enter interceptions, as an integer: \"))\n",
    "goas = int(input(\"Enter goal kicks, as an integer: \"))\n",
    "cors = int(input(\"Enter corners, as an integer: \"))\n",
    "cros = int(input(\"Enter crosses, as an integer: \"))\n",
    "\n",
    "inputarray = [[posn, pasy, shot, savs, tacs, fous, ints, goas, cors, cros]]\n",
    "calcarray = (inputarray - meanarray)/stdarray\n",
    "prediction = goalspred.predict(calcarray)\n",
    "\n",
    "print(\"Goals predicted is \", prediction[0][0])"
   ]
  }
 ],
 "metadata": {
  "kernelspec": {
   "display_name": "Python 3",
   "language": "python",
   "name": "python3"
  },
  "language_info": {
   "codemirror_mode": {
    "name": "ipython",
    "version": 3
   },
   "file_extension": ".py",
   "mimetype": "text/x-python",
   "name": "python",
   "nbconvert_exporter": "python",
   "pygments_lexer": "ipython3",
   "version": "3.8.8"
  }
 },
 "nbformat": 4,
 "nbformat_minor": 5
}
